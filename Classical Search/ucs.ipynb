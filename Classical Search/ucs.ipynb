{
 "cells": [
  {
   "cell_type": "markdown",
   "metadata": {},
   "source": [
    "# Uniform Cost Search"
   ]
  },
  {
   "cell_type": "code",
   "execution_count": 9,
   "metadata": {},
   "outputs": [],
   "source": [
    "class GraphEdge(object):\n",
    "    def __init__(self, destinationNode, distance):\n",
    "        self.node = destinationNode\n",
    "        self.distance = distance\n",
    "\n",
    "class GraphNode(object):\n",
    "    def __init__(self, val):\n",
    "        self.value = val\n",
    "        self.edges = []\n",
    "        parent = _\n",
    "\n",
    "    def add_child(self, node, distance):\n",
    "        self.edges.append(GraphEdge(node, distance))\n",
    "\n",
    "    def remove_child(self, del_node):\n",
    "        if del_node in self.edges:\n",
    "            self.edges.remove(del_node)    \n",
    "\n",
    "class Graph(object):\n",
    "    def __init__(self, node_list):\n",
    "        self.nodes = node_list\n",
    "   \n",
    "    def add_edge(self, node1, node2, distance):\n",
    "        if node1 in self.nodes and node2 in self.nodes:\n",
    "            node1.add_child(node2, distance)\n",
    "            node2.add_child(node1, distance)\n",
    "\n",
    "    def remove_edge(self, node1, node2):\n",
    "        if node1 in self.nodes and node2 in self.nodes:\n",
    "            node1.remove_child(node2)\n",
    "            node2.remove_child(node1)"
   ]
  },
  {
   "cell_type": "markdown",
   "metadata": {},
   "source": [
    "Now let's create the graph."
   ]
  },
  {
   "cell_type": "code",
   "execution_count": 10,
   "metadata": {},
   "outputs": [],
   "source": [
    "nodeU = GraphNode('U')\n",
    "nodeD = GraphNode('D')\n",
    "nodeA = GraphNode('A')\n",
    "nodeC = GraphNode('C')\n",
    "nodeI = GraphNode('I')\n",
    "nodeT = GraphNode('T')\n",
    "nodeY = GraphNode('Y')\n",
    "\n",
    "graph = Graph([nodeU, nodeD, nodeA, nodeC, nodeI, nodeT, nodeY])\n",
    "\n",
    "graph.add_edge(nodeU, nodeA, 4)\n",
    "graph.add_edge(nodeU, nodeC, 6)\n",
    "graph.add_edge(nodeU, nodeD, 3)\n",
    "graph.add_edge(nodeD, nodeC, 4)\n",
    "graph.add_edge(nodeA, nodeI, 7)\n",
    "graph.add_edge(nodeC, nodeI, 4)\n",
    "graph.add_edge(nodeC, nodeT, 5)\n",
    "graph.add_edge(nodeI, nodeY, 4)\n",
    "graph.add_edge(nodeT, nodeY, 5)"
   ]
  },
  {
   "cell_type": "markdown",
   "metadata": {},
   "source": [
    "## Implement UCS"
   ]
  },
  {
   "cell_type": "code",
   "execution_count": 11,
   "metadata": {},
   "outputs": [],
   "source": [
    "def build_path(root_node, goal_node):\n",
    "   path = [goal_node]\n",
    "   add_parent(root_node, goal_node, path)\n",
    "   return path\n",
    "\n",
    "def add_parent(root_node, node, path):\n",
    "   parent = node.parent\n",
    "   path.append(parent)\n",
    "   if parent == root_node:\n",
    "      return\n",
    "   else:\n",
    "      add_parent(root_node, parent, path)\n",
    "\n",
    "def ucs_search(root_node, goal_node):\n",
    "   # To keep tracking node and distance, we use dictionary\n",
    "   frontier = {root_node:0}\n",
    "\n",
    "   # This set will check the explored nodes.\n",
    "   explored = set()\n",
    "\n",
    "   # This list will show the searching process.\n",
    "   visited_order = []\n",
    "\n",
    "   while frontier:\n",
    "      # sorted() sorts the DS\n",
    "      # dictionary.items() gives both key and value\n",
    "      current_node, current_distance = sorted(frontier.items(), key=lambda x:x[1])[0]\n",
    "\n",
    "      # Remove the minimum node\n",
    "      frontier.pop(current_node)\n",
    "      explored.add(current_node)\n",
    "      visited_order.append(current_node.value)\n",
    "\n",
    "      if current_node == goal_node:\n",
    "         return visited_order, build_path(root_node, goal_node)\n",
    "      \n",
    "      for edge in current_node.edges:\n",
    "         child = edge.node\n",
    "\n",
    "         if child not in frontier and child not in explored:\n",
    "            child.parent = current_node\n",
    "            \n",
    "            # distance from current_node to child + distance from root to current_node\n",
    "            frontier[child] = edge.distance + current_distance\n",
    "\n",
    "   return False\n",
    "\n",
    "   \n",
    "                "
   ]
  },
  {
   "cell_type": "markdown",
   "metadata": {},
   "source": [
    "### Tests"
   ]
  },
  {
   "cell_type": "code",
   "execution_count": 12,
   "metadata": {},
   "outputs": [
    {
     "name": "stdout",
     "output_type": "stream",
     "text": [
      "['A', 'U', 'I', 'D', 'C', 'Y']\n",
      "['A', 'I', 'Y']\n"
     ]
    }
   ],
   "source": [
    "output = ucs_search(nodeA, nodeY)\n",
    "print(output[0])\n",
    "print([x.value for x in reversed(output[1])])"
   ]
  }
 ],
 "metadata": {
  "kernelspec": {
   "display_name": "Python 3 (ipykernel)",
   "language": "python",
   "name": "python3"
  },
  "language_info": {
   "codemirror_mode": {
    "name": "ipython",
    "version": 3
   },
   "file_extension": ".py",
   "mimetype": "text/x-python",
   "name": "python",
   "nbconvert_exporter": "python",
   "pygments_lexer": "ipython3",
   "version": "3.11.1"
  }
 },
 "nbformat": 4,
 "nbformat_minor": 2
}
