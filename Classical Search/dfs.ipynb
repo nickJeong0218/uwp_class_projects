{
 "cells": [
  {
   "cell_type": "markdown",
   "metadata": {
    "graffitiCellId": "id_m8owu67"
   },
   "source": [
    "# Depth First Search"
   ]
  },
  {
   "cell_type": "code",
   "execution_count": 17,
   "metadata": {
    "graffitiCellId": "id_ahrjg5m"
   },
   "outputs": [],
   "source": [
    "class GraphNode(object):\n",
    "    def __init__(self, val):\n",
    "        self.value = val\n",
    "        self.children = []\n",
    "        parent = _\n",
    "        \n",
    "    def add_child(self,new_node):\n",
    "        self.children.append(new_node)\n",
    "    \n",
    "    def remove_child(self,del_node):\n",
    "        if del_node in self.children:\n",
    "            self.children.remove(del_node)\n",
    "\n",
    "class Graph(object):\n",
    "    def __init__(self,node_list):\n",
    "        self.nodes = node_list\n",
    "        \n",
    "    def add_edge(self,node1,node2):\n",
    "        if(node1 in self.nodes and node2 in self.nodes):\n",
    "            node1.add_child(node2)\n",
    "            node2.add_child(node1)\n",
    "            \n",
    "    def remove_edge(self,node1,node2):\n",
    "        if(node1 in self.nodes and node2 in self.nodes):\n",
    "            node1.remove_child(node2)\n",
    "            node2.remove_child(node1)"
   ]
  },
  {
   "cell_type": "markdown",
   "metadata": {
    "graffitiCellId": "id_1gmwlh4"
   },
   "source": [
    "Now let's create the graph."
   ]
  },
  {
   "cell_type": "code",
   "execution_count": 18,
   "metadata": {
    "graffitiCellId": "id_7t1mjv6"
   },
   "outputs": [],
   "source": [
    "nodeG = GraphNode('G')\n",
    "nodeR = GraphNode('R')\n",
    "nodeA = GraphNode('A')\n",
    "nodeP = GraphNode('P')\n",
    "nodeH = GraphNode('H')\n",
    "nodeS = GraphNode('S')\n",
    "\n",
    "graph1 = Graph([nodeS,nodeH,nodeG,nodeP,nodeR,nodeA] ) \n",
    "graph1.add_edge(nodeG,nodeR)\n",
    "graph1.add_edge(nodeA,nodeR)\n",
    "graph1.add_edge(nodeA,nodeG)\n",
    "graph1.add_edge(nodeR,nodeP)\n",
    "graph1.add_edge(nodeH,nodeG)\n",
    "graph1.add_edge(nodeH,nodeP)\n",
    "graph1.add_edge(nodeS,nodeR)"
   ]
  },
  {
   "cell_type": "markdown",
   "metadata": {
    "graffitiCellId": "id_8vfpmgw"
   },
   "source": [
    "## Implement DFS"
   ]
  },
  {
   "cell_type": "code",
   "execution_count": 19,
   "metadata": {
    "graffitiCellId": "id_4sn6eaw"
   },
   "outputs": [],
   "source": [
    "def build_path(root_node, goal_node):\n",
    "   path = [goal_node]\n",
    "   add_parent(root_node, goal_node, path)\n",
    "   return path\n",
    "\n",
    "def add_parent(root_node, node, path):\n",
    "   parent = node.parent\n",
    "   path.append(parent)\n",
    "   if parent == root_node:\n",
    "      return\n",
    "   else:\n",
    "      add_parent(root_node, parent, path)\n",
    "\n",
    "def dfs_search(root_node, goal_node):\n",
    "   # Pythong list can be used as Queue, using append().\n",
    "   frontier = [root_node]\n",
    "\n",
    "   # This set will check the explored nodes.\n",
    "   explored = set()\n",
    "\n",
    "   # This list will show the searching process.\n",
    "   visited_order = []\n",
    "\n",
    "   while frontier:\n",
    "      current_node = frontier.pop()\n",
    "      explored.add(current_node)\n",
    "      visited_order.append(current_node.value)\n",
    "\n",
    "      if current_node == goal_node:\n",
    "         return visited_order, build_path(root_node, goal_node)\n",
    "      \n",
    "      for child in current_node.children:\n",
    "         if child not in frontier and child not in explored:\n",
    "            child.parent = current_node\n",
    "            frontier.append(child)\n",
    "\n",
    "   return False\n",
    "\n",
    "   \n",
    "                "
   ]
  },
  {
   "cell_type": "markdown",
   "metadata": {
    "graffitiCellId": "id_0aafts6"
   },
   "source": [
    "### Tests"
   ]
  },
  {
   "cell_type": "code",
   "execution_count": 20,
   "metadata": {
    "graffitiCellId": "id_3k4dgr7"
   },
   "outputs": [
    {
     "name": "stdout",
     "output_type": "stream",
     "text": [
      "['A', 'G', 'H']\n",
      "['A', 'G', 'H']\n"
     ]
    }
   ],
   "source": [
    "output = dfs_search(nodeA, nodeH)\n",
    "print(output[0])\n",
    "print([x.value for x in reversed(output[1])])"
   ]
  }
 ],
 "metadata": {
  "graffiti": {
   "firstAuthorId": "10694620118",
   "id": "id_9f31yr7",
   "language": "EN"
  },
  "kernelspec": {
   "display_name": "Python 3 (ipykernel)",
   "language": "python",
   "name": "python3"
  },
  "language_info": {
   "codemirror_mode": {
    "name": "ipython",
    "version": 3
   },
   "file_extension": ".py",
   "mimetype": "text/x-python",
   "name": "python",
   "nbconvert_exporter": "python",
   "pygments_lexer": "ipython3",
   "version": "3.11.1"
  }
 },
 "nbformat": 4,
 "nbformat_minor": 2
}
