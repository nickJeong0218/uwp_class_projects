{
 "cells": [
  {
   "cell_type": "markdown",
   "metadata": {},
   "source": [
    "## Representing the Game State in Code\n",
    "\n",
    "The game state object needs to enforce all of the rules of the game, and represent all of the information describing a \n",
    "single configuration of the game at a specific point in time. (The bottom right corner should be a blocked cell)"
   ]
  },
  {
   "cell_type": "code",
   "execution_count": 1,
   "metadata": {
    "ExecuteTime": {
     "start_time": "2023-04-07T11:23:45.111731Z",
     "end_time": "2023-04-07T11:23:45.119540Z"
    }
   },
   "outputs": [],
   "source": [
    "call_counter = 0"
   ]
  },
  {
   "cell_type": "code",
   "execution_count": 2,
   "metadata": {
    "ExecuteTime": {
     "start_time": "2023-04-07T11:23:45.116432Z",
     "end_time": "2023-04-07T11:23:45.129425Z"
    }
   },
   "outputs": [],
   "source": [
    "from copy import deepcopy\n",
    "\n",
    "xlim, ylim = 2, 3  # board dimensions\n",
    "\n",
    "# The eight movement directions possible for a chess queen\n",
    "RAYS = [(1, 0), (1, -1), (0, -1), (-1, -1),\n",
    "        (-1, 0), (-1, 1), (0, 1), (1, 1)]\n",
    "\n",
    "class GameState:\n",
    "    \n",
    "    def __init__(self):\n",
    "        self._board = [[0] * ylim for _ in range(xlim)]\n",
    "        self._board[-1][-1] = 1  # block lower-right corner\n",
    "        self._parity = 0\n",
    "        self._player_locations = [None, None]\n",
    "        \n",
    "    def actions(self):\n",
    "        \"\"\" Return a list of legal actions for the active player \"\"\"\n",
    "        \n",
    "        return self.liberties(self._player_locations[self._parity])\n",
    "    \n",
    "    def player(self):\n",
    "        \"\"\" Return the id of the active player \"\"\"\n",
    "        \n",
    "        return self._parity\n",
    "    \n",
    "    def result(self, action):\n",
    "        \"\"\" Return a new state that results from applying the given\n",
    "        action in the current state\"\"\"\n",
    "        \n",
    "        newBoard = deepcopy(self)\n",
    "        newBoard._board[action[0]][action[1]] = 1\n",
    "        newBoard._player_locations[self._parity] = action\n",
    "        newBoard._parity ^= 1\n",
    "        return newBoard\n",
    "    \n",
    "    def terminal_test(self):\n",
    "        \"\"\" return True if the current state is terminal,\n",
    "        and False otherwise\"\"\"\n",
    "        \n",
    "        global call_counter\n",
    "        call_counter =+ 1\n",
    "        \n",
    "        return (not self._has_liberties(self._parity)\n",
    "            or not self._has_liberties(1 - self._parity))\n",
    "    \n",
    "    def utility(self, player_id):\n",
    "        \"\"\" return +inf if the game is terminal and the\n",
    "        specified player wins, return -inf if the game\n",
    "        is terminal and the specified player loses, and\n",
    "        return 0 if the game is not terminal\n",
    "        \"\"\"\n",
    "        if not self.terminal_test(): return 0\n",
    "        player_id_is_active = (player_id == self.player())\n",
    "        active_has_liberties = self._has_liberties(self.player())\n",
    "        active_player_wins = (active_has_liberties == player_id_is_active)\n",
    "        return float(\"inf\") if active_player_wins else float(\"-inf\")\n",
    "    \n",
    "    def liberties(self, loc):\n",
    "        \"\"\" Return a list of all open cells in the\n",
    "        neighborhood of the specified location.  The list \n",
    "        should include all open spaces in a straight line\n",
    "        along any row, column or diagonal from the current\n",
    "        position. (Tokens CANNOT move through obstacles\n",
    "        or blocked squares in queens Isolation.)\n",
    "        \n",
    "        Note: if loc is None, then return all empty cells\n",
    "        on the board\n",
    "        \"\"\"        \n",
    "        if loc is None: return self._get_blank_spaces()\n",
    "        moves = []\n",
    "        for dx, dy in RAYS:  # check each movement direction\n",
    "            _x, _y = loc\n",
    "            while 0 <= _x + dx < xlim and 0 <= _y + dy < ylim:\n",
    "                _x, _y = _x + dx, _y + dy\n",
    "                if self._board[_x][_y]:  # stop at any blocked cell\n",
    "                    break\n",
    "                moves.append((_x, _y))\n",
    "        return moves\n",
    "    \n",
    "    def _has_liberties(self, player_id):\n",
    "        \"\"\" Check to see if the specified player has any liberties \"\"\"   \n",
    "        return any(self.liberties(self._player_locations[player_id]))\n",
    "\n",
    "    def _get_blank_spaces(self):\n",
    "        \"\"\" Return a list of blank spaces on the board.\"\"\"\n",
    "        return [(x, y) for y in range(ylim) for x in range(xlim)\n",
    "                if self._board[x][y] == 0]\n"
   ]
  },
  {
   "cell_type": "markdown",
   "metadata": {},
   "source": [
    "### Test Graph Class"
   ]
  },
  {
   "cell_type": "code",
   "execution_count": 3,
   "metadata": {
    "ExecuteTime": {
     "start_time": "2023-04-07T11:23:45.133494Z",
     "end_time": "2023-04-07T11:23:45.137137Z"
    }
   },
   "outputs": [
    {
     "name": "stdout",
     "output_type": "stream",
     "text": [
      "Creating empty game board...\n",
      "Checking active player on an empty board...\n",
      "Passed.\n",
      "Checking terminal test on an empty board...\n",
      "Passed.\n",
      "Checking liberties on an empty board...\n",
      "Passed.\n",
      "Getting legal moves for player 1...\n",
      "Found 5 legal moves.\n",
      "Applying move (0, 0) for player 1...\n",
      "Getting legal moves for player 2...\n",
      "Passed.\n",
      "\n",
      "Playing a full game\n",
      "Checking terminal test on a terminal board...\n",
      "Passed.\n"
     ]
    }
   ],
   "source": [
    "print(\"Creating empty game board...\")\n",
    "g = GameState()\n",
    "\n",
    "print(\"Checking active player on an empty board...\")\n",
    "if g.player() != 0:\n",
    "    print(\"Failed\\n Uh Oh! Your game did not return player \" +\n",
    "          \"id 0 on an empty board.\")\n",
    "else:\n",
    "    print(\"Passed.\")\n",
    "\n",
    "print(\"Checking terminal test on an empty board...\")\n",
    "if g.terminal_test() != False:\n",
    "    print(\"Failed\\n Uh Oh! Your game marked an empty game state as terminal.\")\n",
    "else:\n",
    "    print(\"Passed.\")\n",
    "    \n",
    "print(\"Checking liberties on an empty board...\")\n",
    "p1_liberties = g.liberties(None)\n",
    "if len(p1_liberties) != 5:\n",
    "    print(\"Failed\\n Uh oh! Your game did not return 5 empty \" +\n",
    "          \"cell locations as liberties on an empty board.\")\n",
    "else:\n",
    "    print(\"Passed.\")\n",
    "\n",
    "print(\"Getting legal moves for player 1...\")\n",
    "p1_empty_moves = g.actions()\n",
    "print(\"Found {} legal moves.\".format(len(p1_empty_moves or [])))\n",
    "\n",
    "print(\"Applying move {} for player 1...\".format(p1_empty_moves[0]))\n",
    "g1 = g.result(p1_empty_moves[0])\n",
    "\n",
    "print(\"Getting legal moves for player 2...\")\n",
    "p2_empty_moves = g1.actions()\n",
    "if len(p2_empty_moves) != 4:\n",
    "    print(\"Failed\\n  Uh oh! Your game did not return the expected \" +\n",
    "          \"number of actions for player 2!\")\n",
    "else:\n",
    "    print(\"Passed.\")\n",
    "\n",
    "print(\"\\nPlaying a full game\")\n",
    "for _ in range(5):\n",
    "    if g.terminal_test(): break\n",
    "    g = g.result(g.actions()[0])\n",
    "\n",
    "print(\"Checking terminal test on a terminal board...\")\n",
    "if g.terminal_test() != True:\n",
    "    print(\"Failed\\n  Uh oh! Your game did not correctly evalute \" +\n",
    "          \"a terminal game state as terminal!\")\n",
    "else:\n",
    "    print(\"Passed.\")"
   ]
  },
  {
   "cell_type": "markdown",
   "metadata": {},
   "source": [
    "## Minimax Decision: Choosing the Best Branch"
   ]
  },
  {
   "cell_type": "markdown",
   "metadata": {},
   "source": [
    "The minimax_decision() function should implement the eponymous procedure from the pseudocode. \n",
    "It should loop over the legal moves from the current state and return the move that has the highest score. \n",
    "The scores are determined by mutually recursive calls between the min and max value helper functions until a \n",
    "terminal state is reached, and propagated back up the tree as the call stack unwinds."
   ]
  },
  {
   "cell_type": "code",
   "execution_count": 4,
   "metadata": {
    "ExecuteTime": {
     "start_time": "2023-04-07T11:23:45.139909Z",
     "end_time": "2023-04-07T11:23:45.169688Z"
    }
   },
   "outputs": [],
   "source": [
    "def min_value(gameState):\n",
    "    \"\"\" Return the game state utility if the game is over,\n",
    "    otherwise return the minimum value over all legal successors\"\"\"\n",
    "    # always want the terminal state utility AKA the max value, so 0 does not change to a 1\n",
    "    if gameState.terminal_test():\n",
    "        return gameState.utility(0)\n",
    "    \n",
    "    v = float(\"inf\")\n",
    "    # uses current location to get all possible moves\n",
    "    for a in gameState.actions():\n",
    "        v = min(v, max_value(gameState.result(a)))\n",
    "\n",
    "    return v\n",
    "\n",
    "\n",
    "def max_value(gameState):\n",
    "    \"\"\" Return the game state utility if the game is over,\n",
    "    otherwise return the maximum value over all legal successors\"\"\"\n",
    "    if gameState.terminal_test():\n",
    "        return gameState.utility(0)\n",
    "    \n",
    "    v = float(\"-inf\")\n",
    "    # uses current location to get all possible moves\n",
    "    for a in gameState.actions():\n",
    "        v = max(v, min_value(gameState.result(a)))\n",
    "\n",
    "    return v"
   ]
  },
  {
   "cell_type": "code",
   "execution_count": 5,
   "metadata": {
    "ExecuteTime": {
     "start_time": "2023-04-07T11:23:45.144563Z",
     "end_time": "2023-04-07T11:23:45.179321Z"
    }
   },
   "outputs": [],
   "source": [
    "def minimax_decision(gameState):\n",
    "    \"\"\" Return the move along a branch of the game tree that\n",
    "    has the best possible value.  A move is a pair of coordinates\n",
    "    in (column, row) order corresponding to a legal move for\n",
    "    the searching player.\"\"\"\n",
    "    # initiates the recursion\n",
    "    best_score = float(\"-inf\")\n",
    "    best_action = None\n",
    "    \n",
    "    for a in gameState.actions():\n",
    "        v = min_value(gameState.result(a))\n",
    "        \n",
    "        if v > best_score:\n",
    "            best_score = v\n",
    "            best_action = a\n",
    "            \n",
    "    return best_action"
   ]
  },
  {
   "cell_type": "markdown",
   "metadata": {},
   "source": [
    "### Test Minimax"
   ]
  },
  {
   "cell_type": "code",
   "execution_count": 6,
   "metadata": {
    "ExecuteTime": {
     "start_time": "2023-04-07T11:23:45.154934Z",
     "end_time": "2023-04-07T11:23:45.179899Z"
    },
    "scrolled": true
   },
   "outputs": [
    {
     "name": "stdout",
     "output_type": "stream",
     "text": [
      "Best move choices: [(1, 0), (0, 2), (0, 0)]\n",
      "Your code chose: (0, 0)\n",
      "That's one of the best move choices. Looks like your minimax-decision function worked!\n"
     ]
    }
   ],
   "source": [
    "best_moves = {(0, 0), (0, 2), (1, 0)}\n",
    "rootNode = GameState()\n",
    "minimax_move = minimax_decision(rootNode)\n",
    "\n",
    "print(\"Best move choices: {}\".format(list(best_moves)))\n",
    "print(\"Your code chose: {}\".format(minimax_move))\n",
    "\n",
    "if minimax_move in best_moves:\n",
    "    print(\"That's one of the best move choices. Looks like your minimax-decision function worked!\")\n",
    "else:\n",
    "    print(\"Uh oh...looks like there may be a problem.\")"
   ]
  },
  {
   "cell_type": "markdown",
   "metadata": {},
   "source": [
    "## Adding a Depth Limit\n",
    "\n",
    "Add a new parameter named depth to each of the minimax functions, then update all of the function calls to pass the depth Aparameter to the next function\n"
   ]
  },
  {
   "cell_type": "markdown",
   "metadata": {},
   "source": [
    "Todo:\n",
    "1. Incorporate the `depth` parameter into each function\n",
    "2. Update all recursive calls to pass the depth parameter\n",
    "3. Add a new conditional to cut off search when the depth limit is reached"
   ]
  },
  {
   "cell_type": "code",
   "execution_count": 7,
   "metadata": {
    "ExecuteTime": {
     "start_time": "2023-04-07T11:23:45.161979Z",
     "end_time": "2023-04-07T11:23:45.180102Z"
    }
   },
   "outputs": [],
   "source": [
    "def minimax_decision(gameState, depth):\n",
    "    \"\"\" Return the move along a branch of the game tree that\n",
    "    has the best possible value.  A move is a pair of coordinates\n",
    "    in (column, row) order corresponding to a legal move for\n",
    "    the searching player.\"\"\"\n",
    "    # initiates the recursion\n",
    "    best_score = float(\"-inf\")\n",
    "    best_action = None\n",
    "    \n",
    "    for a in gameState.actions():\n",
    "        v = min_value(gameState.result(a), depth)\n",
    "        \n",
    "        if v > best_score:\n",
    "            best_score = v\n",
    "            best_action = a\n",
    "            \n",
    "    return best_action\n",
    "\n",
    "def min_value(gameState, depth):\n",
    "    \"\"\" Return the game state utility if the game is over,\n",
    "    otherwise return the minimum value over all legal successors\"\"\"\n",
    "    # always want the terminal state utility AKA the max value, so 0 does not change to a 1\n",
    "    if gameState.terminal_test():\n",
    "        return gameState.utility(0)\n",
    "    \n",
    "    if depth == 0:\n",
    "        return 0\n",
    "    \n",
    "    v = float(\"inf\")\n",
    "    # uses current location to get all possible moves\n",
    "    for a in gameState.actions():\n",
    "        v = min(v, max_value(gameState.result(a), depth - 1))\n",
    "\n",
    "    return v\n",
    "\n",
    "\n",
    "def max_value(gameState, depth):\n",
    "    \"\"\" Return the game state utility if the game is over,\n",
    "    otherwise return the maximum value over all legal successors\"\"\"\n",
    "    if gameState.terminal_test():\n",
    "        return gameState.utility(0)\n",
    "    \n",
    "    if depth == 0:\n",
    "        return 0\n",
    "    \n",
    "    v = float(\"-inf\")\n",
    "    # uses current location to get all possible moves\n",
    "    for a in gameState.actions():\n",
    "        v = max(v, min_value(gameState.result(a), depth - 1))\n",
    "\n",
    "    return v"
   ]
  },
  {
   "cell_type": "markdown",
   "metadata": {},
   "source": [
    "### Test Depth Limit"
   ]
  },
  {
   "cell_type": "code",
   "execution_count": 8,
   "metadata": {
    "ExecuteTime": {
     "start_time": "2023-04-07T11:23:45.166039Z",
     "end_time": "2023-04-07T11:23:45.180232Z"
    }
   },
   "outputs": [
    {
     "name": "stdout",
     "output_type": "stream",
     "text": [
      "Expected node count: 5\n",
      "Your node count: 1\n",
      "Uh oh...looks like there may be a problem.\n"
     ]
    }
   ],
   "source": [
    "call_counter = 0\n",
    "depth_limit = 1\n",
    "expected_node_count = 5\n",
    "rootNode = GameState()\n",
    "_ = minimax_decision(rootNode, depth_limit)\n",
    "\n",
    "print(\"Expected node count: {}\".format(expected_node_count))\n",
    "print(\"Your node count: {}\".format(call_counter))\n",
    "\n",
    "if call_counter == expected_node_count:\n",
    "    print(\"That's right! Looks like your depth limit is working!\")\n",
    "else:\n",
    "    print(\"Uh oh...looks like there may be a problem.\")"
   ]
  },
  {
   "cell_type": "markdown",
   "metadata": {},
   "source": [
    "## Adding an Evaluation Function\n",
    "\n",
    "We can improve the performance of depth limited search using the concept of an \"evaluation function\" (also called a heuristic function)"
   ]
  },
  {
   "cell_type": "markdown",
   "metadata": {},
   "source": [
    "Todo:\n",
    "1. Implement the my_moves() function\n",
    "2. Change the value returned when the depth cutoff is Reached to call and return the score from my_moves()"
   ]
  },
  {
   "cell_type": "code",
   "execution_count": 9,
   "metadata": {
    "ExecuteTime": {
     "start_time": "2023-04-07T11:23:45.169290Z",
     "end_time": "2023-04-07T11:23:45.180295Z"
    }
   },
   "outputs": [],
   "source": [
    "def my_moves(gameState):\n",
    "    location = gameState._player_locations[0]\n",
    "    return len(gameState.liberties(location))"
   ]
  },
  {
   "cell_type": "markdown",
   "metadata": {},
   "source": [
    "### Test Evaluation Function"
   ]
  },
  {
   "cell_type": "code",
   "execution_count": 10,
   "metadata": {
    "ExecuteTime": {
     "start_time": "2023-04-07T11:23:45.175733Z",
     "end_time": "2023-04-07T11:23:45.180440Z"
    }
   },
   "outputs": [],
   "source": [
    "def minimax_decision(gameState, depth):\n",
    "    \"\"\" Return the move along a branch of the game tree that\n",
    "    has the best possible value.  A move is a pair of coordinates\n",
    "    in (column, row) order corresponding to a legal move for\n",
    "    the searching player.\"\"\"\n",
    "    # initiates the recursion\n",
    "    best_score = float(\"-inf\")\n",
    "    best_action = None\n",
    "    \n",
    "    for a in gameState.actions():\n",
    "        v = min_value(gameState.result(a), depth)\n",
    "        \n",
    "        if v > best_score:\n",
    "            best_score = v\n",
    "            best_action = a\n",
    "            \n",
    "    return best_action\n",
    "\n",
    "def min_value(gameState, depth):\n",
    "    \"\"\" Return the game state utility if the game is over,\n",
    "    otherwise return the minimum value over all legal successors\"\"\"\n",
    "    # always want the terminal state utility AKA the max value, so 0 does not change to a 1\n",
    "    if gameState.terminal_test():\n",
    "        return gameState.utility(0)\n",
    "    \n",
    "    if depth == 0:\n",
    "        return my_moves(gameState)\n",
    "    \n",
    "    v = float(\"inf\")\n",
    "    # uses current location to get all possible moves\n",
    "    for a in gameState.actions():\n",
    "        v = min(v, max_value(gameState.result(a), depth - 1))\n",
    "\n",
    "    return v\n",
    "\n",
    "\n",
    "def max_value(gameState, depth):\n",
    "    \"\"\" Return the game state utility if the game is over,\n",
    "    otherwise return the maximum value over all legal successors\"\"\"\n",
    "    if gameState.terminal_test():\n",
    "        return gameState.utility(0)\n",
    "    \n",
    "    if depth == 0:\n",
    "        return my_moves(gameState)\n",
    "    \n",
    "    v = float(\"-inf\")\n",
    "    # uses current location to get all possible moves\n",
    "    for a in gameState.actions():\n",
    "        v = max(v, min_value(gameState.result(a), depth - 1))\n",
    "\n",
    "    return v"
   ]
  },
  {
   "cell_type": "code",
   "execution_count": 11,
   "metadata": {
    "ExecuteTime": {
     "start_time": "2023-04-07T11:23:45.181096Z",
     "end_time": "2023-04-07T11:23:45.189927Z"
    }
   },
   "outputs": [
    {
     "name": "stdout",
     "output_type": "stream",
     "text": [
      "Good job!\n"
     ]
    }
   ],
   "source": [
    "depth_limit = 1\n",
    "rootNode = GameState()\n",
    "tests = [((0, 0), 2), ((0, 1), 3), ((0, 2), 1), ((1, 0), 2), ((1, 1), 3)]\n",
    "\n",
    "if all(min_value(rootNode.result(a), depth_limit) == v for a, v in tests):\n",
    "    print(\"Good job!\")\n",
    "else:\n",
    "    print(\"Uh oh!\\n Looks like one or more of the values didn't match.\")"
   ]
  },
  {
   "cell_type": "markdown",
   "metadata": {},
   "source": [
    "## Iterative Deepening\n",
    "Iterative deepening is a search technique that allows minimax-style search functions to return an approximate solution when computational resources are bounded. The basic idea is to start with a small depth-limited search, and grow the depth limit until the resource limit (usually search time) expires."
   ]
  },
  {
   "cell_type": "markdown",
   "metadata": {},
   "source": [
    "Todo: \n",
    "Implement a function that calls minimax_decision for each depth from 1...depth_limit (inclusive of both endpoints)"
   ]
  },
  {
   "cell_type": "code",
   "execution_count": 12,
   "metadata": {
    "ExecuteTime": {
     "start_time": "2023-04-07T11:23:45.184514Z",
     "end_time": "2023-04-07T11:23:45.190099Z"
    }
   },
   "outputs": [],
   "source": [
    "def get_action(gameState, depth_limit):  \n",
    "    for depth in range(1, depth_limit + 1):\n",
    "        a = minimax_decision(gameState, depth)\n",
    "        \n",
    "    return a\n",
    "        "
   ]
  },
  {
   "cell_type": "markdown",
   "metadata": {},
   "source": [
    "### Test Iterative Deepening"
   ]
  },
  {
   "cell_type": "code",
   "execution_count": 13,
   "metadata": {
    "ExecuteTime": {
     "start_time": "2023-04-07T11:23:45.191803Z",
     "end_time": "2023-04-07T11:23:45.262703Z"
    }
   },
   "outputs": [
    {
     "name": "stdout",
     "output_type": "stream",
     "text": [
      "Expected node count: 30\n",
      "Your node count: 1\n",
      "Uh oh...looks like there may be a problem.\n"
     ]
    }
   ],
   "source": [
    "call_counter = 0\n",
    "depth_limit = 2\n",
    "expected_node_count = 30\n",
    "rootNode = GameState()\n",
    "get_action(rootNode, depth_limit)\n",
    "\n",
    "print(\"Expected node count: {}\".format(expected_node_count))\n",
    "print(\"Your node count: {}\".format(call_counter))\n",
    "\n",
    "if call_counter == expected_node_count:\n",
    "    print(\"That's right! Looks like your depth limit is working!\")\n",
    "else:\n",
    "    print(\"Uh oh...looks like there may be a problem.\")"
   ]
  },
  {
   "cell_type": "markdown",
   "metadata": {},
   "source": [
    "## Alpha-Beta Pruning"
   ]
  },
  {
   "cell_type": "code",
   "execution_count": 16,
   "metadata": {
    "ExecuteTime": {
     "start_time": "2023-04-07T11:23:56.997321Z",
     "end_time": "2023-04-07T11:23:57.004813Z"
    }
   },
   "outputs": [],
   "source": [
    "def alpha_beta_search(gameState):\n",
    "    \"\"\" Return the move along a branch of the game tree that\n",
    "    has the best possible value.  A move is a pair of coordinates\n",
    "    in (column, row) order corresponding to a legal move for\n",
    "    the searching player.\"\"\"\n",
    "    # this now initiates the recursion instead of the other\n",
    "    \n",
    "    alpha = float(\"-inf\")\n",
    "    beta = float(\"inf\")\n",
    "    best_score = float(\"-inf\")\n",
    "    best_move = None\n",
    "\n",
    "    for a in gameState.actions():\n",
    "        v = min_value(gameState.result(a), alpha, beta)\n",
    "        alpha = max(alpha, v)\n",
    "        if v > best_score:\n",
    "            best_score = v\n",
    "            best_move = a\n",
    "    return best_move\n",
    "\n",
    "def min_value(gameState, alpha, beta):\n",
    "    \"\"\" Return the value for a win (+1) if the game is over,\n",
    "    otherwise return the minimum value over all legal child\n",
    "    nodes.\n",
    "    \"\"\"\n",
    "    if gameState.terminal_test():\n",
    "        return gameState.utility(0)\n",
    "    \n",
    "    v = float(\"inf\")\n",
    "    for a in gameState.actions():        \n",
    "        v = min(v, max_value(gameState.result(a), alpha, beta))\n",
    "        if alpha >= v:\n",
    "            return v  \n",
    "        beta = min(beta, v)     \n",
    "    return v\n",
    "\n",
    "def max_value(gameState, alpha, beta):\n",
    "    \"\"\" Return the value for a loss (-1) if the game is over,\n",
    "    otherwise return the maximum value over all legal child\n",
    "    nodes.\n",
    "    \"\"\"\n",
    "    if gameState.terminal_test():\n",
    "        return gameState.utility(0)\n",
    "    \n",
    "    v = float(\"-inf\")\n",
    "    for a in gameState.actions():       \n",
    "        v = max(v, min_value(gameState.result(a), alpha, beta))\n",
    "        if v >= alpha:\n",
    "            return v  \n",
    "        alpha = max(alpha, v)           \n",
    "    return v"
   ]
  },
  {
   "cell_type": "markdown",
   "metadata": {},
   "source": [
    "### Test Alpha-Beta Pruning"
   ]
  },
  {
   "cell_type": "code",
   "execution_count": 17,
   "metadata": {
    "ExecuteTime": {
     "start_time": "2023-04-07T11:23:58.867080Z",
     "end_time": "2023-04-07T11:23:58.903319Z"
    }
   },
   "outputs": [
    {
     "name": "stdout",
     "output_type": "stream",
     "text": [
      "Expected node count: 57\n",
      "Your node count: 1\n",
      "Uh oh...looks like there may be a problem.\n"
     ]
    }
   ],
   "source": [
    "call_counter = 0\n",
    "expected_node_count = 57\n",
    "rootNode = GameState()\n",
    "alpha_beta_search(rootNode)\n",
    "\n",
    "print(\"Expected node count: {}\".format(expected_node_count))\n",
    "print(\"Your node count: {}\".format(call_counter))\n",
    "\n",
    "if call_counter == expected_node_count:\n",
    "    print(\"That's right! Looks like your alpha-beta pruning is working!\")\n",
    "else:\n",
    "    print(\"Uh oh...looks like there may be a problem.\")\n"
   ]
  }
 ],
 "metadata": {
  "kernelspec": {
   "display_name": "Python 3",
   "language": "python",
   "name": "python3"
  },
  "language_info": {
   "codemirror_mode": {
    "name": "ipython",
    "version": 3
   },
   "file_extension": ".py",
   "mimetype": "text/x-python",
   "name": "python",
   "nbconvert_exporter": "python",
   "pygments_lexer": "ipython3",
   "version": "3.9.6"
  },
  "vscode": {
   "interpreter": {
    "hash": "31f2aee4e71d21fbe5cf8b01ff0e069b9275f58929596ceb00d14d90e3e16cd6"
   }
  }
 },
 "nbformat": 4,
 "nbformat_minor": 2
}
